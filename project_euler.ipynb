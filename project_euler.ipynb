{
 "cells": [
  {
   "cell_type": "markdown",
   "id": "693c0164-c1cd-40ed-9c06-fcf6c4cc7d4d",
   "metadata": {},
   "source": [
    "PROJECT EULER (BC IM BORED)"
   ]
  },
  {
   "cell_type": "markdown",
   "id": "ea760c29-3007-4e1e-9cdf-d9b9838e680b",
   "metadata": {},
   "source": [
    "multiples of 3 or 5 (1)"
   ]
  },
  {
   "cell_type": "code",
   "execution_count": 1,
   "id": "cf0d7971-331e-4a9b-a243-5d266e4bc6e5",
   "metadata": {},
   "outputs": [
    {
     "name": "stdout",
     "output_type": "stream",
     "text": [
      "233168\n"
     ]
    }
   ],
   "source": [
    "sum = 0\n",
    "for n in range(1, 1000):\n",
    "    if (n % 3 == 0):\n",
    "        sum = sum + n\n",
    "    elif (n % 5 == 0):\n",
    "        sum = sum + n\n",
    "print (sum)"
   ]
  },
  {
   "cell_type": "markdown",
   "id": "325a8653-671a-4b4c-b149-ba4e6770a884",
   "metadata": {},
   "source": [
    "even fibonacci numbers (2)"
   ]
  },
  {
   "cell_type": "code",
   "execution_count": 2,
   "id": "36e90b21-137c-4a9c-9cc1-6c64cadef9fc",
   "metadata": {},
   "outputs": [
    {
     "name": "stdout",
     "output_type": "stream",
     "text": [
      "4613732\n"
     ]
    }
   ],
   "source": [
    "fibonacci1 = 1\n",
    "fibonacci2 = 2\n",
    "sum1 = 0\n",
    "while fibonacci2 <= 4000000:\n",
    "    if fibonacci2 % 2 == 0:\n",
    "        sum1 = sum1 + fibonacci2\n",
    "    fibonacci_backup = fibonacci1\n",
    "    fibonacci1 = fibonacci2\n",
    "    fibonacci2 = fibonacci2 + fibonacci_backup\n",
    "print(sum1)"
   ]
  },
  {
   "cell_type": "markdown",
   "id": "b87c932f-5514-4ed7-b681-02c3807506a7",
   "metadata": {},
   "source": [
    "largest prime factor (3)"
   ]
  },
  {
   "cell_type": "code",
   "execution_count": 3,
   "id": "b269e251-bb21-459e-bebb-bf47c7506d98",
   "metadata": {},
   "outputs": [
    {
     "name": "stdout",
     "output_type": "stream",
     "text": [
      "1\n",
      "71\n",
      "839\n",
      "1471\n",
      "6857\n",
      "59569\n",
      "is composite\n",
      "104441\n",
      "is composite\n",
      "486847\n",
      "is composite\n"
     ]
    }
   ],
   "source": [
    "import math\n",
    "starter = 600851475143\n",
    "root = math.sqrt(starter)\n",
    "root = math.ceil(root)\n",
    "for n in range(1, root):\n",
    "    if starter % n == 0:\n",
    "        print (n)\n",
    "        root2 = math.sqrt(n)\n",
    "        root2 = math.ceil(root2)\n",
    "        for m in range (2, root2):\n",
    "            if n % m == 0:\n",
    "                print (\"is composite\")\n",
    "                break"
   ]
  },
  {
   "cell_type": "markdown",
   "id": "9b001f06-c021-4a5d-8fdb-c3279cb91b5a",
   "metadata": {},
   "source": [
    "largest palindrome product (4)"
   ]
  },
  {
   "cell_type": "code",
   "execution_count": 4,
   "id": "868f47b1-cf75-4938-8f29-658e387a201a",
   "metadata": {},
   "outputs": [
    {
     "name": "stdout",
     "output_type": "stream",
     "text": [
      "906609\n"
     ]
    }
   ],
   "source": [
    "largest = 0\n",
    "for a in range (100, 1000):\n",
    "    for b in range (a, 1000):\n",
    "        forward = a*b\n",
    "        fw_string = str(forward)\n",
    "        rev_string = fw_string[::-1]\n",
    "        reverse = int(rev_string)\n",
    "        if forward == reverse and forward > largest:\n",
    "            largest = forward\n",
    "print(largest)"
   ]
  },
  {
   "cell_type": "markdown",
   "id": "2052c616-d9d9-4c4b-9301-7cff45bda97a",
   "metadata": {},
   "source": [
    "smallest multiple (5)"
   ]
  },
  {
   "cell_type": "code",
   "execution_count": 2,
   "id": "7169ddac-da23-49a3-bb37-c61b9dafc8aa",
   "metadata": {},
   "outputs": [
    {
     "name": "stdout",
     "output_type": "stream",
     "text": [
      "232792560\n",
      "465585120\n",
      "698377680\n",
      "931170240\n",
      "done\n"
     ]
    }
   ],
   "source": [
    "minimal = 2*3*5*7*11*13*17*19\n",
    "for n in range (1, 100):\n",
    "    count = 0\n",
    "    n_two = n*minimal\n",
    "    for q in range(1, 21):\n",
    "        if n_two % q == 0:\n",
    "            count = count + 1\n",
    "    if count == 20:\n",
    "        print (n_two)\n",
    "print (\"done\")"
   ]
  },
  {
   "cell_type": "markdown",
   "id": "d0c97538-a0a6-4dfa-a810-f9f7af0c0ccf",
   "metadata": {},
   "source": [
    "sum square difference (6)"
   ]
  },
  {
   "cell_type": "code",
   "execution_count": 8,
   "id": "85c77c09-a0fb-4466-9aa8-b3840dfb1c48",
   "metadata": {},
   "outputs": [
    {
     "name": "stdout",
     "output_type": "stream",
     "text": [
      "25164150\n"
     ]
    }
   ],
   "source": [
    "sum_one = sum(range (1, 101))\n",
    "square_of_sums = pow(sum_one, 2)\n",
    "sum_of_squares = 0\n",
    "for n in range (1, 101):\n",
    "    sq = pow(n, 2)\n",
    "    sum_of_squares = sum_of_squares + sq\n",
    "final = square_of_sums - sum_of_squares\n",
    "print(final)"
   ]
  },
  {
   "cell_type": "markdown",
   "id": "b68ae8a3-e1c2-4006-ae94-7c9e380b3f49",
   "metadata": {},
   "source": [
    "10,001st prime (7)"
   ]
  },
  {
   "cell_type": "code",
   "execution_count": 2,
   "id": "f50d4290-9f5e-4006-88f0-48d16523cad6",
   "metadata": {},
   "outputs": [
    {
     "name": "stdout",
     "output_type": "stream",
     "text": [
      "104743\n"
     ]
    }
   ],
   "source": [
    "list_of_primes = [2]\n",
    "while len(list_of_primes) < 10002:\n",
    "    for n in range(list_of_primes[len(list_of_primes) - 1] + 1, list_of_primes[len(list_of_primes) - 1] + 1000):\n",
    "        is_prime = 1\n",
    "        for m in range (0, len(list_of_primes) - 1):\n",
    "            if n % list_of_primes[m] == 0:\n",
    "                is_prime = 0\n",
    "                break\n",
    "        if is_prime == 1:\n",
    "            list_of_primes.append(n)\n",
    "            break\n",
    "print(list_of_primes[10000])"
   ]
  },
  {
   "cell_type": "markdown",
   "id": "c4098aec-a90c-4743-ad12-a28cd3bbb38e",
   "metadata": {},
   "source": [
    "largest product in a series (8)"
   ]
  },
  {
   "cell_type": "code",
   "execution_count": 3,
   "id": "f93ac543-1263-4d36-9f23-c43324b22593",
   "metadata": {},
   "outputs": [
    {
     "name": "stdout",
     "output_type": "stream",
     "text": [
      "23514624000\n"
     ]
    }
   ],
   "source": [
    "number_string = \"7316717653133062491922511967442657474235534919493496983520312774506326239578318016984801869478851843858615607891129494954595017379583319528532088055111254069874715852386305071569329096329522744304355766896648950445244523161731856403098711121722383113622298934233803081353362766142828064444866452387493035890729629049156044077239071381051585930796086670172427121883998797908792274921901699720888093776657273330010533678812202354218097512545405947522435258490771167055601360483958644670632441572215539753697817977846174064955149290862569321978468622482839722413756570560574902614079729686524145351004748216637048440319989000889524345065854122758866688116427171479924442928230863465674813919123162824586178664583591245665294765456828489128831426076900422421902267105562632111110937054421750694165896040807198403850962455444362981230987879927244284909188845801561660979191338754992005240636899125607176060588611646710940507754100225698315520005593572972571636269561882670428252483600823257530420752963450\"\n",
    "max_product = 1\n",
    "for n in range(0, 984):\n",
    "    product = 1\n",
    "    for m in range (0, 13):\n",
    "        digit = int(number_string[n+m])\n",
    "        product = product * digit\n",
    "    if product > max_product:\n",
    "        max_product = product\n",
    "print(max_product)"
   ]
  },
  {
   "cell_type": "markdown",
   "id": "fcb41508-6945-4ee1-a8d8-13aed7c2235b",
   "metadata": {},
   "source": [
    "special pythagorean triplet (9)"
   ]
  },
  {
   "cell_type": "code",
   "execution_count": 5,
   "id": "a05886cc-56d3-40d1-8a87-7425693d6ee4",
   "metadata": {},
   "outputs": [
    {
     "name": "stdout",
     "output_type": "stream",
     "text": [
      "31875000\n"
     ]
    }
   ],
   "source": [
    "for a in range (1, 400):\n",
    "    for b in range (a, 499):\n",
    "        for c in range (b, 500):\n",
    "            if pow(a, 2) + pow(b, 2) == pow(c, 2) and a + b + c == 1000:\n",
    "                print (a*b*c)"
   ]
  },
  {
   "cell_type": "markdown",
   "id": "277c801b-d7e9-4bf4-9b05-389c2a17d055",
   "metadata": {},
   "source": [
    "summation of primes (10)"
   ]
  },
  {
   "cell_type": "code",
   "execution_count": 11,
   "id": "d11d1286-6ae1-4125-97fe-5f4a32000966",
   "metadata": {},
   "outputs": [
    {
     "name": "stdout",
     "output_type": "stream",
     "text": [
      "142913828922\n"
     ]
    }
   ],
   "source": [
    "import math\n",
    "sum_of_primes = 5\n",
    "for n in range(5, 2000001):\n",
    "    is_prime = 1\n",
    "    for m in range (2, math.ceil(pow(n, 0.5)) + 1):\n",
    "        if n % m == 0:\n",
    "            is_prime = 0\n",
    "            break\n",
    "    if is_prime == 1:\n",
    "        sum_of_primes = sum_of_primes + n\n",
    "print(sum_of_primes)"
   ]
  },
  {
   "cell_type": "markdown",
   "id": "ed51e6de-7a1e-47fc-9ff3-0122b5d868cd",
   "metadata": {},
   "source": []
  }
 ],
 "metadata": {
  "kernelspec": {
   "display_name": "Python 3 (ipykernel)",
   "language": "python",
   "name": "python3"
  },
  "language_info": {
   "codemirror_mode": {
    "name": "ipython",
    "version": 3
   },
   "file_extension": ".py",
   "mimetype": "text/x-python",
   "name": "python",
   "nbconvert_exporter": "python",
   "pygments_lexer": "ipython3",
   "version": "3.13.6"
  }
 },
 "nbformat": 4,
 "nbformat_minor": 5
}
